{
 "cells": [
  {
   "cell_type": "code",
   "execution_count": 1,
   "id": "65237f57-7608-45fb-bc79-dc32a114d996",
   "metadata": {},
   "outputs": [],
   "source": [
    "import pandas as pd\n",
    "import numpy as np\n",
    "import seaborn as sns\n",
    "import matplotlib.pyplot as plt\n",
    "from sklearn.model_selection import train_test_split\n",
    "from sklearn.preprocessing import LabelEncoder, StandardScaler\n",
    "from sklearn.feature_selection import SelectKBest, f_classif"
   ]
  },
  {
   "cell_type": "code",
   "execution_count": 2,
   "id": "b8925834-c214-4533-a0b3-d6356e2f5bcc",
   "metadata": {},
   "outputs": [],
   "source": [
    "# Step 2 & 3: Load Data from File & Create DataFrame\n",
    "file_path = \"D:\\\\dml\\\\Project\\\\Electric_Vehicle_Population_Data.csv\"\n",
    "# Update if needed\n",
    "df = pd.read_csv(file_path)"
   ]
  },
  {
   "cell_type": "code",
   "execution_count": 3,
   "id": "659f9946-fd8e-407d-81f5-00bcdf481cca",
   "metadata": {},
   "outputs": [],
   "source": [
    "# Drop duplicates\n",
    "df = df.drop_duplicates()"
   ]
  },
  {
   "cell_type": "code",
   "execution_count": 4,
   "id": "c0620d41-acbf-43b5-8466-dc56914bb941",
   "metadata": {},
   "outputs": [],
   "source": [
    "# Fill missing numerical values using appropriate imputation techniques\n",
    "numerical_cols = ['Postal Code', 'Electric Range', 'Base MSRP', 'Legislative District', '2020 Census Tract']\n",
    "for col in numerical_cols:\n",
    "    df[col] = df[col].fillna(df[col].median())  # Using median for imputation"
   ]
  },
  {
   "cell_type": "code",
   "execution_count": 5,
   "id": "49b27e76-57eb-419f-878c-1fa546e095b4",
   "metadata": {},
   "outputs": [],
   "source": [
    "# Normalize text fields\n",
    "df['Make'] = df['Make'].str.upper()\n",
    "df['Model'] = df['Model'].str.upper()"
   ]
  },
  {
   "cell_type": "code",
   "execution_count": 6,
   "id": "6ab9a17b-14d4-456a-921e-99b78f37cbd9",
   "metadata": {},
   "outputs": [],
   "source": [
    "def remove_outliers_iqr(data, column):\n",
    "    Q1 = data[column].quantile(0.25)\n",
    "    Q3 = data[column].quantile(0.75)\n",
    "    IQR = Q3 - Q1\n",
    "    lower_bound = Q1 - 1.5 * IQR\n",
    "    upper_bound = Q3 + 1.5 * IQR\n",
    "    return data[(data[column] >= lower_bound) & (data[column] <= upper_bound)]"
   ]
  },
  {
   "cell_type": "code",
   "execution_count": 7,
   "id": "6306aa1a-5779-4c9b-be6f-9f7191c78223",
   "metadata": {},
   "outputs": [],
   "source": [
    "# Apply IQR method to all numerical columns\n",
    "numerical_cols = ['Postal Code', 'Electric Range', 'Base MSRP', 'Legislative District', '2020 Census Tract']\n",
    "for col in numerical_cols:\n",
    "    df = remove_outliers_iqr(df, col)"
   ]
  },
  {
   "cell_type": "code",
   "execution_count": 8,
   "id": "4512f224-63b4-445b-9660-02b976232faa",
   "metadata": {},
   "outputs": [],
   "source": [
    "# Address skewed data using log transformation where applicable\n",
    "for col in numerical_cols:\n",
    "    if df[col].skew() > 1:  # Checking for right skew\n",
    "        df[col] = np.log1p(df[col])  # Log transformation to reduce skewness"
   ]
  },
  {
   "cell_type": "code",
   "execution_count": 17,
   "id": "094c4ab2-d717-4b67-9e37-b6733df76056",
   "metadata": {},
   "outputs": [],
   "source": [
    "# Recheck and remove constant features after transformation\n",
    "constant_features = [col for col in numerical_cols if df[col].nunique() <= 1]\n",
    "df = df.drop(columns=constant_features)\n",
    "numerical_cols = [col for col in numerical_cols if col not in constant_features]"
   ]
  },
  {
   "cell_type": "code",
   "execution_count": 19,
   "id": "26953e72-2a99-4ae6-a6a5-843a6857feaf",
   "metadata": {},
   "outputs": [],
   "source": [
    "# Feature selection (Select K Best for classification)\n",
    "X = df[numerical_cols]  # Select numerical features\n",
    "y = df['Electric Vehicle Type']  # Target variable for classification"
   ]
  },
  {
   "cell_type": "code",
   "execution_count": 25,
   "id": "a73d14d9-9d74-4f2d-882f-09bf63a05b56",
   "metadata": {},
   "outputs": [
    {
     "name": "stdout",
     "output_type": "stream",
     "text": [
      "Selected Features: ['Postal Code', 'Electric Range', 'Legislative District']\n"
     ]
    }
   ],
   "source": [
    "# Ensure there are enough unique values for SelectKBest\n",
    "X = df[numerical_cols]  # Update X after removing problematic columns\n",
    "\n",
    "if X.shape[1] > 0:  # Ensure there are features left for selection\n",
    "    selector = SelectKBest(score_func=f_classif, k=min(3, X.shape[1]))  # Select top features\n",
    "    X_new = selector.fit_transform(X, y)\n",
    "    selected_features = [numerical_cols[i] for i in selector.get_support(indices=True)]\n",
    "    print(\"Selected Features:\", selected_features)\n",
    "else:\n",
    "    X_new = X.values  # No feature selection if no numerical features are left\n",
    "    selected_features = numerical_cols"
   ]
  },
  {
   "cell_type": "code",
   "execution_count": 27,
   "id": "c705eaa0-ae46-499d-ab0d-0b0a7f2dcead",
   "metadata": {},
   "outputs": [],
   "source": [
    "# Scaling the features\n",
    "scaler = StandardScaler()\n",
    "X_scaled = scaler.fit_transform(X_new)"
   ]
  },
  {
   "cell_type": "code",
   "execution_count": 29,
   "id": "3eb21e84-acdc-4e9e-a223-16be3d719101",
   "metadata": {},
   "outputs": [],
   "source": [
    "# Train-test split\n",
    "X_train, X_test, y_train, y_test = train_test_split(X_scaled, y, test_size=0.2, random_state=42, stratify=y)"
   ]
  },
  {
   "cell_type": "code",
   "execution_count": 31,
   "id": "830e490e-7d57-45b2-b045-5290461f201b",
   "metadata": {},
   "outputs": [
    {
     "name": "stdout",
     "output_type": "stream",
     "text": [
      "X_train shape: (143428, 3)\n",
      "X_test shape: (35857, 3)\n",
      "y_train shape: (143428,)\n",
      "y_test shape: (35857,)\n"
     ]
    }
   ],
   "source": [
    "# Print shapes\n",
    "print(\"X_train shape:\", X_train.shape)\n",
    "print(\"X_test shape:\", X_test.shape)\n",
    "print(\"y_train shape:\", y_train.shape)\n",
    "print(\"y_test shape:\", y_test.shape)"
   ]
  },
  {
   "cell_type": "code",
   "execution_count": 35,
   "id": "fa459336-23f4-43ec-b20e-888a9928536e",
   "metadata": {},
   "outputs": [
    {
     "name": "stdout",
     "output_type": "stream",
     "text": [
      "Data cleaning completed. Cleaned file saved at: D:\\dml\\Project\\Cleaned_Electric_Vehicle_Data1.csv\n"
     ]
    }
   ],
   "source": [
    "# Save cleaned dataset\n",
    "cleaned_file_path = \"D:\\\\dml\\\\Project\\\\Cleaned_Electric_Vehicle_Data1.csv\"\n",
    "df.to_csv(cleaned_file_path, index=False)\n",
    "\n",
    "print(\"Data cleaning completed. Cleaned file saved at:\", cleaned_file_path)"
   ]
  },
  {
   "cell_type": "code",
   "execution_count": null,
   "id": "94c9ef4c-02a1-4647-9d5d-b2fd2cc93b28",
   "metadata": {},
   "outputs": [],
   "source": []
  }
 ],
 "metadata": {
  "kernelspec": {
   "display_name": "Python 3 (ipykernel)",
   "language": "python",
   "name": "python3"
  },
  "language_info": {
   "codemirror_mode": {
    "name": "ipython",
    "version": 3
   },
   "file_extension": ".py",
   "mimetype": "text/x-python",
   "name": "python",
   "nbconvert_exporter": "python",
   "pygments_lexer": "ipython3",
   "version": "3.12.4"
  }
 },
 "nbformat": 4,
 "nbformat_minor": 5
}
